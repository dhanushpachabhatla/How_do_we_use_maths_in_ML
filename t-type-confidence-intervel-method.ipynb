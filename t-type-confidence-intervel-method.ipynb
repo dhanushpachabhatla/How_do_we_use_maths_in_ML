{
 "cells": [
  {
   "cell_type": "markdown",
   "id": "622617fe",
   "metadata": {
    "papermill": {
     "duration": 0.004577,
     "end_time": "2025-05-14T07:09:10.494900",
     "exception": false,
     "start_time": "2025-05-14T07:09:10.490323",
     "status": "completed"
    },
    "tags": []
   },
   "source": [
    "# Applying T-type Confidence interveal finder Method"
   ]
  },
  {
   "cell_type": "markdown",
   "id": "680d060c",
   "metadata": {
    "papermill": {
     "duration": 0.00342,
     "end_time": "2025-05-14T07:09:10.502223",
     "exception": false,
     "start_time": "2025-05-14T07:09:10.498803",
     "status": "completed"
    },
    "tags": []
   },
   "source": [
    "* we assume that the initial distribution is Norma Distribution\n",
    "* CI = Samples_mean +/- T(alpha/2)* (standart_deviation/sqaureroot(n))\n",
    "* where alpha = confidence score, T() - form T table (like Z-table)"
   ]
  },
  {
   "cell_type": "code",
   "execution_count": 1,
   "id": "a945b8fe",
   "metadata": {
    "_cell_guid": "b1076dfc-b9ad-4769-8c92-a6c4dae69d19",
    "_uuid": "8f2839f25d086af736a60e9eeb907d3b93b6e0e5",
    "execution": {
     "iopub.execute_input": "2025-05-14T07:09:10.511082Z",
     "iopub.status.busy": "2025-05-14T07:09:10.510710Z",
     "iopub.status.idle": "2025-05-14T07:09:12.667488Z",
     "shell.execute_reply": "2025-05-14T07:09:12.666332Z"
    },
    "papermill": {
     "duration": 2.163132,
     "end_time": "2025-05-14T07:09:12.669115",
     "exception": false,
     "start_time": "2025-05-14T07:09:10.505983",
     "status": "completed"
    },
    "tags": []
   },
   "outputs": [
    {
     "name": "stdout",
     "output_type": "stream",
     "text": [
      "/kaggle/input/titanic/train.csv\n",
      "/kaggle/input/titanic/test.csv\n",
      "/kaggle/input/titanic/gender_submission.csv\n"
     ]
    }
   ],
   "source": [
    "# This Python 3 environment comes with many helpful analytics libraries installed\n",
    "# It is defined by the kaggle/python Docker image: https://github.com/kaggle/docker-python\n",
    "# For example, here's several helpful packages to load\n",
    "\n",
    "import numpy as np # linear algebra\n",
    "import pandas as pd # data processing, CSV file I/O (e.g. pd.read_csv)\n",
    "\n",
    "# Input data files are available in the read-only \"../input/\" directory\n",
    "# For example, running this (by clicking run or pressing Shift+Enter) will list all files under the input directory\n",
    "\n",
    "import os\n",
    "for dirname, _, filenames in os.walk('/kaggle/input'):\n",
    "    for filename in filenames:\n",
    "        print(os.path.join(dirname, filename))\n",
    "\n",
    "# You can write up to 20GB to the current directory (/kaggle/working/) that gets preserved as output when you create a version using \"Save & Run All\" \n",
    "# You can also write temporary files to /kaggle/temp/, but they won't be saved outside of the current session"
   ]
  },
  {
   "cell_type": "markdown",
   "id": "4e2d7941",
   "metadata": {
    "papermill": {
     "duration": 0.003935,
     "end_time": "2025-05-14T07:09:12.677245",
     "exception": false,
     "start_time": "2025-05-14T07:09:12.673310",
     "status": "completed"
    },
    "tags": []
   },
   "source": [
    "# using Titanic Dataset"
   ]
  },
  {
   "cell_type": "code",
   "execution_count": 2,
   "id": "e84943ec",
   "metadata": {
    "execution": {
     "iopub.execute_input": "2025-05-14T07:09:12.686156Z",
     "iopub.status.busy": "2025-05-14T07:09:12.685699Z",
     "iopub.status.idle": "2025-05-14T07:09:12.721518Z",
     "shell.execute_reply": "2025-05-14T07:09:12.720460Z"
    },
    "papermill": {
     "duration": 0.042362,
     "end_time": "2025-05-14T07:09:12.723393",
     "exception": false,
     "start_time": "2025-05-14T07:09:12.681031",
     "status": "completed"
    },
    "tags": []
   },
   "outputs": [],
   "source": [
    "test_df = pd.read_csv('/kaggle/input/titanic/test.csv')\n",
    "train_df = pd.read_csv('/kaggle/input/titanic/train.csv')"
   ]
  },
  {
   "cell_type": "code",
   "execution_count": 3,
   "id": "0e3d33a4",
   "metadata": {
    "execution": {
     "iopub.execute_input": "2025-05-14T07:09:12.733053Z",
     "iopub.status.busy": "2025-05-14T07:09:12.732747Z",
     "iopub.status.idle": "2025-05-14T07:09:12.764120Z",
     "shell.execute_reply": "2025-05-14T07:09:12.763079Z"
    },
    "papermill": {
     "duration": 0.038808,
     "end_time": "2025-05-14T07:09:12.766146",
     "exception": false,
     "start_time": "2025-05-14T07:09:12.727338",
     "status": "completed"
    },
    "tags": []
   },
   "outputs": [
    {
     "data": {
      "text/html": [
       "<div>\n",
       "<style scoped>\n",
       "    .dataframe tbody tr th:only-of-type {\n",
       "        vertical-align: middle;\n",
       "    }\n",
       "\n",
       "    .dataframe tbody tr th {\n",
       "        vertical-align: top;\n",
       "    }\n",
       "\n",
       "    .dataframe thead th {\n",
       "        text-align: right;\n",
       "    }\n",
       "</style>\n",
       "<table border=\"1\" class=\"dataframe\">\n",
       "  <thead>\n",
       "    <tr style=\"text-align: right;\">\n",
       "      <th></th>\n",
       "      <th>PassengerId</th>\n",
       "      <th>Survived</th>\n",
       "      <th>Pclass</th>\n",
       "      <th>Name</th>\n",
       "      <th>Sex</th>\n",
       "      <th>Age</th>\n",
       "      <th>SibSp</th>\n",
       "      <th>Parch</th>\n",
       "      <th>Ticket</th>\n",
       "      <th>Fare</th>\n",
       "      <th>Cabin</th>\n",
       "      <th>Embarked</th>\n",
       "    </tr>\n",
       "  </thead>\n",
       "  <tbody>\n",
       "    <tr>\n",
       "      <th>0</th>\n",
       "      <td>1</td>\n",
       "      <td>0</td>\n",
       "      <td>3</td>\n",
       "      <td>Braund, Mr. Owen Harris</td>\n",
       "      <td>male</td>\n",
       "      <td>22.0</td>\n",
       "      <td>1</td>\n",
       "      <td>0</td>\n",
       "      <td>A/5 21171</td>\n",
       "      <td>7.2500</td>\n",
       "      <td>NaN</td>\n",
       "      <td>S</td>\n",
       "    </tr>\n",
       "    <tr>\n",
       "      <th>1</th>\n",
       "      <td>2</td>\n",
       "      <td>1</td>\n",
       "      <td>1</td>\n",
       "      <td>Cumings, Mrs. John Bradley (Florence Briggs Th...</td>\n",
       "      <td>female</td>\n",
       "      <td>38.0</td>\n",
       "      <td>1</td>\n",
       "      <td>0</td>\n",
       "      <td>PC 17599</td>\n",
       "      <td>71.2833</td>\n",
       "      <td>C85</td>\n",
       "      <td>C</td>\n",
       "    </tr>\n",
       "    <tr>\n",
       "      <th>2</th>\n",
       "      <td>3</td>\n",
       "      <td>1</td>\n",
       "      <td>3</td>\n",
       "      <td>Heikkinen, Miss. Laina</td>\n",
       "      <td>female</td>\n",
       "      <td>26.0</td>\n",
       "      <td>0</td>\n",
       "      <td>0</td>\n",
       "      <td>STON/O2. 3101282</td>\n",
       "      <td>7.9250</td>\n",
       "      <td>NaN</td>\n",
       "      <td>S</td>\n",
       "    </tr>\n",
       "    <tr>\n",
       "      <th>3</th>\n",
       "      <td>4</td>\n",
       "      <td>1</td>\n",
       "      <td>1</td>\n",
       "      <td>Futrelle, Mrs. Jacques Heath (Lily May Peel)</td>\n",
       "      <td>female</td>\n",
       "      <td>35.0</td>\n",
       "      <td>1</td>\n",
       "      <td>0</td>\n",
       "      <td>113803</td>\n",
       "      <td>53.1000</td>\n",
       "      <td>C123</td>\n",
       "      <td>S</td>\n",
       "    </tr>\n",
       "    <tr>\n",
       "      <th>4</th>\n",
       "      <td>5</td>\n",
       "      <td>0</td>\n",
       "      <td>3</td>\n",
       "      <td>Allen, Mr. William Henry</td>\n",
       "      <td>male</td>\n",
       "      <td>35.0</td>\n",
       "      <td>0</td>\n",
       "      <td>0</td>\n",
       "      <td>373450</td>\n",
       "      <td>8.0500</td>\n",
       "      <td>NaN</td>\n",
       "      <td>S</td>\n",
       "    </tr>\n",
       "  </tbody>\n",
       "</table>\n",
       "</div>"
      ],
      "text/plain": [
       "   PassengerId  Survived  Pclass  \\\n",
       "0            1         0       3   \n",
       "1            2         1       1   \n",
       "2            3         1       3   \n",
       "3            4         1       1   \n",
       "4            5         0       3   \n",
       "\n",
       "                                                Name     Sex   Age  SibSp  \\\n",
       "0                            Braund, Mr. Owen Harris    male  22.0      1   \n",
       "1  Cumings, Mrs. John Bradley (Florence Briggs Th...  female  38.0      1   \n",
       "2                             Heikkinen, Miss. Laina  female  26.0      0   \n",
       "3       Futrelle, Mrs. Jacques Heath (Lily May Peel)  female  35.0      1   \n",
       "4                           Allen, Mr. William Henry    male  35.0      0   \n",
       "\n",
       "   Parch            Ticket     Fare Cabin Embarked  \n",
       "0      0         A/5 21171   7.2500   NaN        S  \n",
       "1      0          PC 17599  71.2833   C85        C  \n",
       "2      0  STON/O2. 3101282   7.9250   NaN        S  \n",
       "3      0            113803  53.1000  C123        S  \n",
       "4      0            373450   8.0500   NaN        S  "
      ]
     },
     "execution_count": 3,
     "metadata": {},
     "output_type": "execute_result"
    }
   ],
   "source": [
    "train_df.head()"
   ]
  },
  {
   "cell_type": "code",
   "execution_count": 4,
   "id": "4ab30865",
   "metadata": {
    "execution": {
     "iopub.execute_input": "2025-05-14T07:09:12.777989Z",
     "iopub.status.busy": "2025-05-14T07:09:12.777656Z",
     "iopub.status.idle": "2025-05-14T07:09:12.806199Z",
     "shell.execute_reply": "2025-05-14T07:09:12.804047Z"
    },
    "papermill": {
     "duration": 0.037613,
     "end_time": "2025-05-14T07:09:12.808603",
     "exception": false,
     "start_time": "2025-05-14T07:09:12.770990",
     "status": "completed"
    },
    "tags": []
   },
   "outputs": [],
   "source": [
    "df = pd.concat([train_df.drop(columns = ['Survived']),test_df]).sample(1309)"
   ]
  },
  {
   "cell_type": "code",
   "execution_count": 5,
   "id": "505c1a61",
   "metadata": {
    "execution": {
     "iopub.execute_input": "2025-05-14T07:09:12.823770Z",
     "iopub.status.busy": "2025-05-14T07:09:12.822832Z",
     "iopub.status.idle": "2025-05-14T07:09:14.732258Z",
     "shell.execute_reply": "2025-05-14T07:09:14.731013Z"
    },
    "papermill": {
     "duration": 1.917731,
     "end_time": "2025-05-14T07:09:14.734125",
     "exception": false,
     "start_time": "2025-05-14T07:09:12.816394",
     "status": "completed"
    },
    "tags": []
   },
   "outputs": [
    {
     "data": {
      "text/plain": [
       "<Axes: ylabel='Density'>"
      ]
     },
     "execution_count": 5,
     "metadata": {},
     "output_type": "execute_result"
    },
    {
     "data": {
      "image/png": "[encoded data removed]",
      "text/plain": [
       "<Figure size 640x480 with 1 Axes>"
      ]
     },
     "metadata": {},
     "output_type": "display_data"
    }
   ],
   "source": [
    "df['Fare'].plot(kind='kde')"
   ]
  },
  {
   "cell_type": "markdown",
   "id": "4287ffff",
   "metadata": {
    "papermill": {
     "duration": 0.004684,
     "end_time": "2025-05-14T07:09:14.743537",
     "exception": false,
     "start_time": "2025-05-14T07:09:14.738853",
     "status": "completed"
    },
    "tags": []
   },
   "source": [
    "taking 10 samples each length of 30, so n = 30 (for T-table)"
   ]
  },
  {
   "cell_type": "code",
   "execution_count": 6,
   "id": "bd449bdb",
   "metadata": {
    "execution": {
     "iopub.execute_input": "2025-05-14T07:09:14.754818Z",
     "iopub.status.busy": "2025-05-14T07:09:14.754336Z",
     "iopub.status.idle": "2025-05-14T07:09:14.769307Z",
     "shell.execute_reply": "2025-05-14T07:09:14.768316Z"
    },
    "papermill": {
     "duration": 0.022864,
     "end_time": "2025-05-14T07:09:14.771148",
     "exception": false,
     "start_time": "2025-05-14T07:09:14.748284",
     "status": "completed"
    },
    "tags": []
   },
   "outputs": [],
   "source": [
    "samples = []\n",
    "stds = []\n",
    "for i in range(10):\n",
    "    x = df['Fare'].dropna().sample(30).values\n",
    "    stds.append(x.std())\n",
    "    samples.append(x.tolist())"
   ]
  },
  {
   "cell_type": "code",
   "execution_count": 7,
   "id": "061186a9",
   "metadata": {
    "execution": {
     "iopub.execute_input": "2025-05-14T07:09:14.781926Z",
     "iopub.status.busy": "2025-05-14T07:09:14.781492Z",
     "iopub.status.idle": "2025-05-14T07:09:14.786823Z",
     "shell.execute_reply": "2025-05-14T07:09:14.785796Z"
    },
    "papermill": {
     "duration": 0.012604,
     "end_time": "2025-05-14T07:09:14.788473",
     "exception": false,
     "start_time": "2025-05-14T07:09:14.775869",
     "status": "completed"
    },
    "tags": []
   },
   "outputs": [],
   "source": [
    "samples = np.array(samples)"
   ]
  },
  {
   "cell_type": "code",
   "execution_count": 8,
   "id": "4aa94f6e",
   "metadata": {
    "execution": {
     "iopub.execute_input": "2025-05-14T07:09:14.799290Z",
     "iopub.status.busy": "2025-05-14T07:09:14.798968Z",
     "iopub.status.idle": "2025-05-14T07:09:14.804967Z",
     "shell.execute_reply": "2025-05-14T07:09:14.803751Z"
    },
    "papermill": {
     "duration": 0.014132,
     "end_time": "2025-05-14T07:09:14.807243",
     "exception": false,
     "start_time": "2025-05-14T07:09:14.793111",
     "status": "completed"
    },
    "tags": []
   },
   "outputs": [],
   "source": [
    "sampling_means = samples.mean(axis = 1)"
   ]
  },
  {
   "cell_type": "code",
   "execution_count": 9,
   "id": "fdd23e9c",
   "metadata": {
    "execution": {
     "iopub.execute_input": "2025-05-14T07:09:14.819812Z",
     "iopub.status.busy": "2025-05-14T07:09:14.819208Z",
     "iopub.status.idle": "2025-05-14T07:09:14.824912Z",
     "shell.execute_reply": "2025-05-14T07:09:14.823848Z"
    },
    "papermill": {
     "duration": 0.013503,
     "end_time": "2025-05-14T07:09:14.826993",
     "exception": false,
     "start_time": "2025-05-14T07:09:14.813490",
     "status": "completed"
    },
    "tags": []
   },
   "outputs": [],
   "source": [
    "sample_std = np.mean(stds)"
   ]
  },
  {
   "cell_type": "code",
   "execution_count": 10,
   "id": "211306ca",
   "metadata": {
    "execution": {
     "iopub.execute_input": "2025-05-14T07:09:14.838990Z",
     "iopub.status.busy": "2025-05-14T07:09:14.838603Z",
     "iopub.status.idle": "2025-05-14T07:09:15.529923Z",
     "shell.execute_reply": "2025-05-14T07:09:15.528925Z"
    },
    "papermill": {
     "duration": 0.69937,
     "end_time": "2025-05-14T07:09:15.531857",
     "exception": false,
     "start_time": "2025-05-14T07:09:14.832487",
     "status": "completed"
    },
    "tags": []
   },
   "outputs": [],
   "source": [
    "import seaborn as sns"
   ]
  },
  {
   "cell_type": "code",
   "execution_count": 11,
   "id": "3042e1c0",
   "metadata": {
    "execution": {
     "iopub.execute_input": "2025-05-14T07:09:15.543092Z",
     "iopub.status.busy": "2025-05-14T07:09:15.542568Z",
     "iopub.status.idle": "2025-05-14T07:09:15.810406Z",
     "shell.execute_reply": "2025-05-14T07:09:15.809435Z"
    },
    "papermill": {
     "duration": 0.27623,
     "end_time": "2025-05-14T07:09:15.813061",
     "exception": false,
     "start_time": "2025-05-14T07:09:15.536831",
     "status": "completed"
    },
    "tags": []
   },
   "outputs": [
    {
     "name": "stderr",
     "output_type": "stream",
     "text": [
      "/usr/local/lib/python3.11/dist-packages/seaborn/_oldcore.py:1119: FutureWarning: use_inf_as_na option is deprecated and will be removed in a future version. Convert inf values to NaN before operating instead.\n",
      "  with pd.option_context('mode.use_inf_as_na', True):\n"
     ]
    },
    {
     "data": {
      "text/plain": [
       "<Axes: ylabel='Density'>"
      ]
     },
     "execution_count": 11,
     "metadata": {},
     "output_type": "execute_result"
    },
    {
     "data": {
      "image/png": "[encoded data removed]",
      "text/plain": [
       "<Figure size 640x480 with 1 Axes>"
      ]
     },
     "metadata": {},
     "output_type": "display_data"
    }
   ],
   "source": [
    "sns.kdeplot(sampling_means)"
   ]
  },
  {
   "cell_type": "markdown",
   "id": "fa16b32f",
   "metadata": {
    "papermill": {
     "duration": 0.004744,
     "end_time": "2025-05-14T07:09:15.823923",
     "exception": false,
     "start_time": "2025-05-14T07:09:15.819179",
     "status": "completed"
    },
    "tags": []
   },
   "source": [
    "# **for 95% confidence interval**  (refer T-table to know the values)"
   ]
  },
  {
   "cell_type": "code",
   "execution_count": 12,
   "id": "1e65be3d",
   "metadata": {
    "execution": {
     "iopub.execute_input": "2025-05-14T07:09:15.835459Z",
     "iopub.status.busy": "2025-05-14T07:09:15.835112Z",
     "iopub.status.idle": "2025-05-14T07:09:15.840624Z",
     "shell.execute_reply": "2025-05-14T07:09:15.839716Z"
    },
    "papermill": {
     "duration": 0.013615,
     "end_time": "2025-05-14T07:09:15.842595",
     "exception": false,
     "start_time": "2025-05-14T07:09:15.828980",
     "status": "completed"
    },
    "tags": []
   },
   "outputs": [],
   "source": [
    "upper_limit = sampling_means.mean() + 2.042*(sample_std/np.sqrt(30))\n",
    "lower_limit = sampling_means.mean() - 2.042*(sample_std/np.sqrt(30))"
   ]
  },
  {
   "cell_type": "code",
   "execution_count": 13,
   "id": "99ce40fb",
   "metadata": {
    "execution": {
     "iopub.execute_input": "2025-05-14T07:09:15.855739Z",
     "iopub.status.busy": "2025-05-14T07:09:15.855378Z",
     "iopub.status.idle": "2025-05-14T07:09:15.861289Z",
     "shell.execute_reply": "2025-05-14T07:09:15.860036Z"
    },
    "papermill": {
     "duration": 0.014474,
     "end_time": "2025-05-14T07:09:15.863005",
     "exception": false,
     "start_time": "2025-05-14T07:09:15.848531",
     "status": "completed"
    },
    "tags": []
   },
   "outputs": [
    {
     "name": "stdout",
     "output_type": "stream",
     "text": [
      "the range is 16.21887788849415  to  43.398288778172514\n"
     ]
    }
   ],
   "source": [
    "print(\"the range is\", lower_limit,\" to \",upper_limit)"
   ]
  },
  {
   "cell_type": "code",
   "execution_count": 14,
   "id": "5aaa13fb",
   "metadata": {
    "execution": {
     "iopub.execute_input": "2025-05-14T07:09:15.874960Z",
     "iopub.status.busy": "2025-05-14T07:09:15.874256Z",
     "iopub.status.idle": "2025-05-14T07:09:15.880822Z",
     "shell.execute_reply": "2025-05-14T07:09:15.879888Z"
    },
    "papermill": {
     "duration": 0.014859,
     "end_time": "2025-05-14T07:09:15.883172",
     "exception": false,
     "start_time": "2025-05-14T07:09:15.868313",
     "status": "completed"
    },
    "tags": []
   },
   "outputs": [
    {
     "data": {
      "text/plain": [
       "29.80858333333333"
      ]
     },
     "execution_count": 14,
     "metadata": {},
     "output_type": "execute_result"
    }
   ],
   "source": [
    "sampling_means.mean()"
   ]
  },
  {
   "cell_type": "code",
   "execution_count": 15,
   "id": "6ea35ec1",
   "metadata": {
    "execution": {
     "iopub.execute_input": "2025-05-14T07:09:15.895395Z",
     "iopub.status.busy": "2025-05-14T07:09:15.895039Z",
     "iopub.status.idle": "2025-05-14T07:09:15.902119Z",
     "shell.execute_reply": "2025-05-14T07:09:15.901145Z"
    },
    "papermill": {
     "duration": 0.015451,
     "end_time": "2025-05-14T07:09:15.904018",
     "exception": false,
     "start_time": "2025-05-14T07:09:15.888567",
     "status": "completed"
    },
    "tags": []
   },
   "outputs": [
    {
     "data": {
      "text/plain": [
       "33.29547928134557"
      ]
     },
     "execution_count": 15,
     "metadata": {},
     "output_type": "execute_result"
    }
   ],
   "source": [
    "df['Fare'].mean()"
   ]
  },
  {
   "cell_type": "markdown",
   "id": "3bcc6c36",
   "metadata": {
    "papermill": {
     "duration": 0.005204,
     "end_time": "2025-05-14T07:09:15.915044",
     "exception": false,
     "start_time": "2025-05-14T07:09:15.909840",
     "status": "completed"
    },
    "tags": []
   },
   "source": [
    "As you can see we calculated the upper limit and lower limit with 95% confidence score and predicted mean is 33.88 wheras real mean = 33.295, here we also know th real value but if we dont know the real value then we can conclude that we are 95% sure that **the Point Estimate** (here mean) lies between the above range."
   ]
  }
 ],
 "metadata": {
  "kaggle": {
   "accelerator": "none",
   "dataSources": [
    {
     "datasetId": 348873,
     "sourceId": 687897,
     "sourceType": "datasetVersion"
    }
   ],
   "dockerImageVersionId": 31040,
   "isGpuEnabled": false,
   "isInternetEnabled": true,
   "language": "python",
   "sourceType": "notebook"
  },
  "kernelspec": {
   "display_name": "Python 3",
   "language": "python",
   "name": "python3"
  },
  "language_info": {
   "codemirror_mode": {
    "name": "ipython",
    "version": 3
   },
   "file_extension": ".py",
   "mimetype": "text/x-python",
   "name": "python",
   "nbconvert_exporter": "python",
   "pygments_lexer": "ipython3",
   "version": "3.11.11"
  },
  "papermill": {
   "default_parameters": {},
   "duration": 11.523922,
   "end_time": "2025-05-14T07:09:16.644078",
   "environment_variables": {},
   "exception": null,
   "input_path": "__notebook__.ipynb",
   "output_path": "__notebook__.ipynb",
   "parameters": {},
   "start_time": "2025-05-14T07:09:05.120156",
   "version": "2.6.0"
  }
 },
 "nbformat": 4,
 "nbformat_minor": 5
}
